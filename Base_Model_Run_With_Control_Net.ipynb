{
  "nbformat": 4,
  "nbformat_minor": 0,
  "metadata": {
    "colab": {
      "provenance": [],
      "include_colab_link": true
    },
    "kernelspec": {
      "name": "python3",
      "display_name": "Python 3"
    },
    "language_info": {
      "name": "python"
    },
    "accelerator": "GPU",
    "gpuClass": "standard"
  },
  "cells": [
    {
      "cell_type": "markdown",
      "metadata": {
        "id": "view-in-github",
        "colab_type": "text"
      },
      "source": [
        "<a href=\"https://colab.research.google.com/github/VishalPrem1994/AIGenPlayGround/blob/main/Base_Model_Run_With_Control_Net.ipynb\" target=\"_parent\"><img src=\"https://colab.research.google.com/assets/colab-badge.svg\" alt=\"Open In Colab\"/></a>"
      ]
    },
    {
      "cell_type": "code",
      "execution_count": null,
      "metadata": {
        "id": "HK3x4EXYB66c"
      },
      "outputs": [],
      "source": [
        "%pip install openai numpy opencv-python accelerate transformers ftfy bitsandbytes==0.35.0 gradio natsort safetensors xformers diffusers"
      ]
    },
    {
      "cell_type": "code",
      "source": [
        "from google.colab import drive\n",
        "drive.mount('/content/drive')\n",
        "BASEPATH = '/content/drive/MyDrive/stable_diffusion_weights'"
      ],
      "metadata": {
        "id": "AuYX_GbZCBv-"
      },
      "execution_count": null,
      "outputs": []
    },
    {
      "cell_type": "code",
      "source": [
        "import torch\n",
        "from torch import autocast\n",
        "from diffusers import StableDiffusionPipeline, StableDiffusionControlNetPipeline, DDIMScheduler, ControlNetModel\n",
        "from IPython.display import display\n",
        "from diffusers.utils import load_image\n",
        "torch.cuda.empty_cache()"
      ],
      "metadata": {
        "id": "U0jH5lOeCD4s"
      },
      "execution_count": null,
      "outputs": []
    },
    {
      "cell_type": "code",
      "source": [
        "controlnet = ControlNetModel.from_pretrained(\n",
        "    \"fusing/stable-diffusion-v1-5-controlnet-openpose\", torch_dtype=torch.float16\n",
        ")\n"
      ],
      "metadata": {
        "id": "Y-AFCxcgCOAl"
      },
      "execution_count": null,
      "outputs": []
    },
    {
      "cell_type": "code",
      "source": [
        "model_path = BASEPATH+\"/Mark2\"           \n",
        "print(model_path)  # If you want to use previously trained model saved in gdrive, replace this with the full path of model in gdrive\n",
        "pipe = StableDiffusionControlNetPipeline.from_pretrained(model_path,controlnet=controlnet, safety_checker=None, torch_dtype=torch.float16).to(\"cuda\")"
      ],
      "metadata": {
        "id": "pL1MU5iYCOmH"
      },
      "execution_count": null,
      "outputs": []
    },
    {
      "cell_type": "code",
      "source": [
        "pipe.scheduler = DDIMScheduler.from_config(pipe.scheduler.config)\n",
        "pipe.enable_xformers_memory_efficient_attention()"
      ],
      "metadata": {
        "id": "D24KOHOQCHx6"
      },
      "execution_count": null,
      "outputs": []
    },
    {
      "cell_type": "code",
      "source": [
        "urls = [\n",
        "    \n",
        "    \"https://firebasestorage.googleapis.com/v0/b/controlnet-poses-65adc.appspot.com/o/ControlnetPoses%2F1682049682582?alt=media&token=5e966bbd-db18-44a7-b166-1fe3ad0be2e7\",\n",
        "    \"https://firebasestorage.googleapis.com/v0/b/controlnet-poses-65adc.appspot.com/o/ControlnetPoses%2F1682010483523?alt=media&token=5c42e5f0-9ee8-42c7-948a-c2f3830db830\"\n",
        "]\n",
        "pose = [load_image(url) for url in urls]\n"
      ],
      "metadata": {
        "id": "WC6GwNHSG8ZT"
      },
      "execution_count": null,
      "outputs": []
    },
    {
      "cell_type": "code",
      "source": [
        "g_cuda = torch.Generator(device='cuda')\n",
        "seed = 4248775099 #@param {type:\"number\"}\n",
        "g_cuda.manual_seed(seed)\n",
        "#@title Run for generating images.\n",
        "\n",
        "prompt = \"beautiful indian woman wearing jeans and jacket, gorgeous, detailed face , high quality, intricate, ultra realistic, beautiful hair,  depth of field, 8k uhd, dslr, soft lighting, detailed skin, skin pores, 8k uhd, dslr, soft lighting, high quality, film grain, Fujifilm XT3\" #@param {type:\"string\"}\n",
        "negative_prompt = \"(worst quality:1.4), (low quality:1.4), child, deformed, deformed face, bad hands, bad fingers, bad hands, (3d, render, cgi, doll, painting:1.4), long body, blurry, duplicate, cloned, duplicate body parts, disfigured, extra limbs, fused fingers, extra fingers, twisted, malformed hands, mutated hands and fingers, conjoined, missing limbs, bad anatomy, bad proportions, logo, signature, text, words, lowres, boring, mutated, artifacts, gross, ugly, stretch, smooth skin texture\" #@param {type:\"string\"}\n",
        "num_samples = 2 #@param {type:\"number\"}\n",
        "guidance_scale = 8 #@param {type:\"number\"}\n",
        "num_inference_steps = 20 #@param {type:\"number\"}\n",
        "height = 768 #@param {type:\"number\"}\n",
        "width = 512 #@param {type:\"number\"}\n",
        "\n",
        "with autocast(\"cuda\"), torch.inference_mode():\n",
        "    images = pipe(\n",
        "        [prompt]*2,\n",
        "        pose,\n",
        "        height=height,\n",
        "        width=width,\n",
        "        negative_prompt=[negative_prompt]*2,\n",
        "        #num_images_per_prompt=num_samples,\n",
        "        num_inference_steps=num_inference_steps,\n",
        "        guidance_scale=guidance_scale,\n",
        "        generator=g_cuda\n",
        "    ).images\n",
        "\n",
        "for img in images:\n",
        "    display(img)"
      ],
      "metadata": {
        "id": "doztUzt-CFl0"
      },
      "execution_count": null,
      "outputs": []
    },
    {
      "cell_type": "code",
      "source": [],
      "metadata": {
        "id": "GSw_6VFzHkH0"
      },
      "execution_count": null,
      "outputs": []
    }
  ]
}