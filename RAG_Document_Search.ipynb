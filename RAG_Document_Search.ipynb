{
  "nbformat": 4,
  "nbformat_minor": 0,
  "metadata": {
    "colab": {
      "provenance": [],
      "gpuType": "T4",
      "authorship_tag": "ABX9TyMpXzy0tcsjQ6hwcD18EFa4",
      "include_colab_link": true
    },
    "kernelspec": {
      "name": "python3",
      "display_name": "Python 3"
    },
    "language_info": {
      "name": "python"
    },
    "accelerator": "GPU"
  },
  "cells": [
    {
      "cell_type": "markdown",
      "metadata": {
        "id": "view-in-github",
        "colab_type": "text"
      },
      "source": [
        "<a href=\"https://colab.research.google.com/github/VishalPrem1994/AIGenPlayGround/blob/main/RAG_Document_Search.ipynb\" target=\"_parent\"><img src=\"https://colab.research.google.com/assets/colab-badge.svg\" alt=\"Open In Colab\"/></a>"
      ]
    },
    {
      "cell_type": "code",
      "source": [
        "%pip install openai\n",
        "%pip install langchain\n",
        "%pip install pypdf\n",
        "%pip install chromadb\n",
        "%pip install tiktoken"
      ],
      "metadata": {
        "id": "uNQNP5eTnbIR"
      },
      "execution_count": null,
      "outputs": []
    },
    {
      "cell_type": "code",
      "source": [
        "import os\n",
        "from time import perf_counter\n",
        "from langchain.document_loaders import PyPDFLoader\n",
        "from langchain.llms import OpenAI, VertexAI\n",
        "from langchain.chains import RetrievalQA\n",
        "from langchain.indexes import VectorstoreIndexCreator\n",
        "from langchain.text_splitter import CharacterTextSplitter, TokenTextSplitter\n",
        "from langchain.embeddings import OpenAIEmbeddings, VertexAIEmbeddings\n",
        "from langchain.vectorstores import Chroma\n",
        "\n",
        "from google.colab import drive\n",
        "drive.mount('/content/drive')"
      ],
      "metadata": {
        "id": "m10fpgbFnpb8"
      },
      "execution_count": null,
      "outputs": []
    },
    {
      "cell_type": "code",
      "execution_count": null,
      "metadata": {
        "id": "q6wYid3fnJwo"
      },
      "outputs": [],
      "source": [
        "\n",
        "\n",
        "import os\n",
        "\n",
        "os.environ[\"OPENAI_API_KEY\"] = ''\n",
        "\n",
        "\n",
        "def pdf_loader():\n",
        "    return [PyPDFLoader(\"/content/drive/MyDrive/Doc Backups/Test_Input.pdf\")]\n",
        "\n",
        "\n",
        "def build_qa_chain(platform: str = 'openai', chunk_size: int = 1000, chunk_overlap: int = 50) -> RetrievalQA:\n",
        "\n",
        "    embedding = OpenAIEmbeddings()\n",
        "    # splitter = CharacterTextSplitter.from_tiktoken_encoder(chunk_size=chunk_size, chunk_overlap=chunk_overlap)\n",
        "    splitter = CharacterTextSplitter(chunk_size=5000, chunk_overlap=0)\n",
        "    llm = OpenAI(model_name=\"text-davinci-003\",\n",
        "                temperature=0.9,\n",
        "                max_tokens=256)\n",
        "\n",
        "    loaders = pdf_loader()\n",
        "    index = VectorstoreIndexCreator(\n",
        "        embedding=embedding,\n",
        "        text_splitter=splitter).from_loaders(loaders)\n",
        "    print(len(index.vectorstore.get()))\n",
        "\n",
        "    # Prepare the pipeline\n",
        "    return RetrievalQA.from_chain_type(llm=llm,\n",
        "                                       chain_type=\"stuff\",\n",
        "                                       retriever=index.vectorstore.as_retriever(search_type=\"similarity\",\n",
        "                                                                                search_kwargs={\"k\": 4}),\n",
        "                                       return_source_documents=True,\n",
        "                                       input_key=\"question\")\n",
        "\n",
        "\n",
        "tick = perf_counter()\n",
        "qa_chain = build_qa_chain('openai', chunk_overlap=0)\n",
        "print(f'Time span for building index: {perf_counter() - tick}')\n",
        "\n",
        "# get reply to our questions\n",
        "tick = perf_counter()\n",
        "result = qa_chain({'question': 'What is the candidate name?', 'include_run_info': True})\n",
        "print(f'Time span for query: {perf_counter() - tick}')\n",
        "\n",
        "print('Q:', result['question'])\n",
        "print('A:', result['result'])\n",
        "print('\\n')\n",
        "print('Resources:', result['source_documents'])"
      ]
    }
  ]
}