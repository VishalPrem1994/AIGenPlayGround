{
  "nbformat": 4,
  "nbformat_minor": 0,
  "metadata": {
    "colab": {
      "provenance": [],
      "gpuType": "T4",
      "authorship_tag": "ABX9TyNsGgWwq2Fiul7CRCwNCu2w",
      "include_colab_link": true
    },
    "kernelspec": {
      "name": "python3",
      "display_name": "Python 3"
    },
    "language_info": {
      "name": "python"
    },
    "accelerator": "GPU"
  },
  "cells": [
    {
      "cell_type": "markdown",
      "metadata": {
        "id": "view-in-github",
        "colab_type": "text"
      },
      "source": [
        "<a href=\"https://colab.research.google.com/github/VishalPrem1994/AIGenPlayGround/blob/main/RAG_Document_Search.ipynb\" target=\"_parent\"><img src=\"https://colab.research.google.com/assets/colab-badge.svg\" alt=\"Open In Colab\"/></a>"
      ]
    },
    {
      "cell_type": "code",
      "source": [
        "%pip install openai\n",
        "%pip install langchain\n",
        "%pip install pypdf\n",
        "%pip install chromadb\n",
        "%pip install tiktoken\n",
        "%pip install sentence-transformers\n",
        "%pip install pdfminer.six\n",
        "%pip install kor==0.10.0\n",
        "%pip install cv2\n",
        "%pip install pytesseract\n",
        "%pip install PIL\n"
      ],
      "metadata": {
        "id": "uNQNP5eTnbIR"
      },
      "execution_count": null,
      "outputs": []
    },
    {
      "cell_type": "code",
      "source": [],
      "metadata": {
        "id": "GzdhBJ3s20oI"
      },
      "execution_count": null,
      "outputs": []
    },
    {
      "cell_type": "code",
      "source": [
        "from google.colab import drive\n",
        "from pdfminer.high_level import extract_text\n",
        "\n",
        "drive.mount('/content/drive/')"
      ],
      "metadata": {
        "id": "GfnDImczHYom"
      },
      "execution_count": null,
      "outputs": []
    },
    {
      "cell_type": "code",
      "source": [
        "text = extract_text('/content/drive/MyDrive/R&D/Deep Learning V2/TrainingData/PatientBills/P1.pdf')\n",
        "\n",
        "text = \" \".join(text.split(\"\\n\"))\n",
        "text = text.replace(\"   \",\" \")\n",
        "print(text)"
      ],
      "metadata": {
        "id": "LFtxbVNKHDZO"
      },
      "execution_count": null,
      "outputs": []
    },
    {
      "cell_type": "code",
      "source": [
        "from typing import List, Optional\n",
        "import itertools\n",
        "import requests\n",
        "\n",
        "import pandas as pd\n",
        "from pydantic import BaseModel, Field, validator\n",
        "from kor import extract_from_documents, from_pydantic, create_extraction_chain\n",
        "from kor.documents.html import MarkdownifyHTMLProcessor\n",
        "from langchain.chat_models import ChatOpenAI\n",
        "from langchain.schema import Document\n",
        "from langchain.text_splitter import RecursiveCharacterTextSplitter\n",
        "from langchain.llms import OpenAI, VertexAI, HuggingFaceHub\n",
        "from kor.extraction import create_extraction_chain\n",
        "from kor.nodes import Object, Text, Number\n",
        "\n",
        "\n",
        "repo_id = \"tiiuae/falcon-7b\"\n",
        "llm = OpenAI(model_name=\"gpt-3.5-turbo\",temperature=0,max_tokens=2000)\n",
        "# llm = HuggingFaceHub(huggingfacehub_api_token=huggingfacehub_api_token,repo_id=repo_id,model_kwargs={\"temperature\":0.6, \"max_new_tokens\":500})"
      ],
      "metadata": {
        "id": "d9322fUIH9uc"
      },
      "execution_count": null,
      "outputs": []
    },
    {
      "cell_type": "code",
      "source": [
        "invoice_schema = Object(\n",
        "    id=\"amts_extraction\",\n",
        "    description=\"extraction of all payment info\",\n",
        "    attributes=[\n",
        "        Number(id=\"total_bill_amt\",\n",
        "             description= \"total bill amount\",\n",
        "             examples=[\n",
        "            (\"Gross bill amount :  Rs. 56,456.00\", \"56456\"),\n",
        "            (\"Gross bill amount : 5,000.00\", \"5000\"),\n",
        "            (\"Gross bill amount : Rs. 50,476.00 Net Amount to be paid by patient  :  45,000.34\", \"45000\")\n",
        "            ]),\n",
        "        Number(id=\"insurance_approved_amt\",\n",
        "             description= \"Net Amount Paid by Company\",\n",
        "             examples=[\n",
        "            (\"Net Amount to be Paid by Company : Rs. 56,456.00\", \"56456\"),\n",
        "            (\"Net Amount to be Paid by Company : 5,000.00\", \"5000\"),\n",
        "            (\"Net Amount to be Paid by Company  :  45,000.34\", \"45000\")\n",
        "            ]),\n",
        "        Number(id=\"net_amt_extraction\",\n",
        "             description= \"net payment to be paid by the patient\",\n",
        "             examples=[\n",
        "            (\"Net Amount to be paid by patient : Rs. 56,456.00\", \"56456\"),\n",
        "            (\"Net Amount to be paid by patient : 5,000.00\", \"5000\"),\n",
        "            (\"Net Bill Amount Rs. 61,641.00 Company Credit Limit : Rs. 50,476.00 Net Amount to be paid by patient  :  45,000.34\", \"45000\")\n",
        "            ]),\n",
        "    ],\n",
        "    many=False,\n",
        ")\n",
        "invoice_chain = create_extraction_chain(llm, invoice_schema)\n",
        "\n",
        "\n",
        "from langchain.callbacks import get_openai_callback\n",
        "with get_openai_callback() as cb:\n",
        "    document_extraction_results = invoice_chain.predict_and_parse(text=text)['data']\n",
        "    print(f\"Total Tokens: {cb.total_tokens}\")\n",
        "    print(f\"Prompt Tokens: {cb.prompt_tokens}\")\n",
        "    print(f\"Completion Tokens: {cb.completion_tokens}\")\n",
        "    print(f\"Successful Requests: {cb.successful_requests}\")\n",
        "    print(f\"Total Cost (USD): ${cb.total_cost}\")\n",
        "document_extraction_results"
      ],
      "metadata": {
        "colab": {
          "base_uri": "https://localhost:8080/"
        },
        "id": "iH1d9pl7IUPC",
        "outputId": "39d155c2-e1b8-42b6-ef8d-d25151e3e483"
      },
      "execution_count": 216,
      "outputs": [
        {
          "output_type": "stream",
          "name": "stderr",
          "text": [
            "/usr/local/lib/python3.10/dist-packages/langchain/chains/llm.py:280: UserWarning: The predict_and_parse method is deprecated, instead pass an output parser directly to LLMChain.\n",
            "  warnings.warn(\n"
          ]
        },
        {
          "output_type": "stream",
          "name": "stdout",
          "text": [
            "Total Tokens: 1631\n",
            "Prompt Tokens: 1609\n",
            "Completion Tokens: 22\n",
            "Successful Requests: 1\n",
            "Total Cost (USD): $0.0024575\n"
          ]
        },
        {
          "output_type": "execute_result",
          "data": {
            "text/plain": [
              "{'amts_extraction': [{'total_bill_amt': '64297.13',\n",
              "   'insurance_approved_amt': '50476',\n",
              "   'net_amt_extraction': '11165'}]}"
            ]
          },
          "metadata": {},
          "execution_count": 216
        }
      ]
    },
    {
      "cell_type": "code",
      "source": [
        "details_schema = Object(\n",
        "    id=\"amts_extraction\",\n",
        "    description=\"extraction of all payment info\",\n",
        "    examples=[\n",
        "        (\"Patient Name : Mr. Paul Sams\", [{\"first_name\": \"Paul\"}, {\"second_name\": \"Sams\"}]),\n",
        "        (\"Patient Name : Mr. Joju george\", [{\"first_name\": \"Joju\"}, {\"second_name\": \"george\"}]),\n",
        "        (\"Patient Name : Mr. Nirmal Hafiz\", [{\"first_name\": \"Nirmal\"}, {\"second_name\": \"Hafiz\"}])\n",
        "    ],\n",
        "    attributes=[\n",
        "        Text(\n",
        "            id=\"first_name\",\n",
        "            description=\"The first name of a person.\",\n",
        "        ),\n",
        "        Text(\n",
        "            id=\"second_name\",\n",
        "            description=\"The second name of a person.\",\n",
        "        )\n",
        "    ],\n",
        "    many=False,\n",
        ")\n",
        "details_chain = create_extraction_chain(llm, details_schema)\n",
        "details_chain.run(text)"
      ],
      "metadata": {
        "id": "xlA_wpEyr1Ry"
      },
      "execution_count": null,
      "outputs": []
    },
    {
      "cell_type": "code",
      "source": [
        "# split_docs = RecursiveCharacterTextSplitter().split_documents([text])"
      ],
      "metadata": {
        "id": "0yyIVQYU4BSR"
      },
      "execution_count": null,
      "outputs": []
    },
    {
      "cell_type": "code",
      "source": [
        "text"
      ],
      "metadata": {
        "id": "FrhX9dRq4Rkc"
      },
      "execution_count": null,
      "outputs": []
    },
    {
      "cell_type": "code",
      "source": [],
      "metadata": {
        "id": "UBU6QtOe3V8E"
      },
      "execution_count": null,
      "outputs": []
    },
    {
      "cell_type": "code",
      "source": [
        "validated_data = list(\n",
        "    itertools.chain.from_iterable(\n",
        "        extraction[\"validated_data\"] for extraction in document_extraction_results\n",
        "    )\n",
        ")"
      ],
      "metadata": {
        "id": "1nGdDC9G3cHY"
      },
      "execution_count": null,
      "outputs": []
    },
    {
      "cell_type": "code",
      "source": [
        "pd.DataFrame(record.dict() for record in validated_data)"
      ],
      "metadata": {
        "id": "RpU68fA23z8o"
      },
      "execution_count": null,
      "outputs": []
    },
    {
      "cell_type": "code",
      "source": [],
      "metadata": {
        "id": "QPDrHjX93z0i"
      },
      "execution_count": null,
      "outputs": []
    },
    {
      "cell_type": "code",
      "source": [
        "details_chain.predict_and_parse(text=text)['data']"
      ],
      "metadata": {
        "id": "ExVsaHt30toS"
      },
      "execution_count": null,
      "outputs": []
    },
    {
      "cell_type": "code",
      "source": [
        "invoice_chain.predict_and_parse(text=text)['data']"
      ],
      "metadata": {
        "id": "99kfxE1hLxk0"
      },
      "execution_count": null,
      "outputs": []
    },
    {
      "cell_type": "markdown",
      "source": [
        "## RAG Based Extraction"
      ],
      "metadata": {
        "id": "RtjFMDy8NAPG"
      }
    },
    {
      "cell_type": "code",
      "source": [
        "import os\n",
        "from time import perf_counter\n",
        "from langchain.document_loaders import PyPDFLoader\n",
        "from langchain.llms import OpenAI, VertexAI, HuggingFaceHub\n",
        "from langchain.chains import RetrievalQA\n",
        "from langchain.indexes import VectorstoreIndexCreator\n",
        "from langchain.text_splitter import CharacterTextSplitter, TokenTextSplitter\n",
        "\n",
        "from langchain.embeddings import OpenAIEmbeddings, VertexAIEmbeddings, HuggingFaceEmbeddings\n",
        "from langchain.vectorstores import Chroma\n",
        "\n",
        "from google.colab import drive\n",
        "drive.mount('/content/drive')"
      ],
      "metadata": {
        "id": "m10fpgbFnpb8"
      },
      "execution_count": null,
      "outputs": []
    },
    {
      "cell_type": "code",
      "execution_count": null,
      "metadata": {
        "id": "q6wYid3fnJwo"
      },
      "outputs": [],
      "source": [
        "\n",
        "\n",
        "\n",
        "\n",
        "def pdf_loader():\n",
        "    return [PyPDFLoader(\"/content/drive/MyDrive/R&D/Deep Learning V2/TrainingData/PatientBills/P1.pdf\")]\n",
        "\n",
        "\n",
        "def build_qa_chain(platform: str = 'falcon', chunk_size: int = 1000, chunk_overlap: int = 50) -> RetrievalQA:\n",
        "\n",
        "\n",
        "    if platform == \"openai\":\n",
        "      embedding = OpenAIEmbeddings()\n",
        "      # splitter = CharacterTextSplitter.from_tiktoken_encoder(chunk_size=chunk_size, chunk_overlap=chunk_overlap)\n",
        "      splitter = CharacterTextSplitter(chunk_size=5000, chunk_overlap=0)\n",
        "      llm = OpenAI(model_name=\"text-davinci-003\",temperature=0.9,max_tokens=256)\n",
        "    else:\n",
        "      embedding = HuggingFaceEmbeddings()\n",
        "      repo_id = \"tiiuae/falcon-7b\"\n",
        "      splitter = CharacterTextSplitter(chunk_size=5000, chunk_overlap=0)\n",
        "      llm = HuggingFaceHub(huggingfacehub_api_token=huggingfacehub_api_token,\n",
        "                      repo_id=repo_id,\n",
        "                      model_kwargs={\"temperature\":0.5, \"max_new_tokens\":200})\n",
        "\n",
        "    loaders = pdf_loader()\n",
        "    index = VectorstoreIndexCreator(\n",
        "        embedding=embedding,\n",
        "        text_splitter=splitter).from_loaders(loaders)\n",
        "    print(len(index.vectorstore.get()))\n",
        "\n",
        "    # Prepare the pipeline\n",
        "    return RetrievalQA.from_chain_type(llm=llm,\n",
        "                                       chain_type=\"stuff\",\n",
        "                                       retriever=index.vectorstore.as_retriever(search_type=\"similarity\",\n",
        "                                                                                search_kwargs={\"k\": 2}),\n",
        "                                       return_source_documents=True,\n",
        "                                       input_key=\"question\")\n",
        "\n",
        "\n"
      ]
    },
    {
      "cell_type": "code",
      "source": [
        "tick = perf_counter()\n",
        "qa_chain = build_qa_chain('open', chunk_overlap=0)\n",
        "print(f'Time span for building index: {perf_counter() - tick}')\n",
        "\n",
        "# get reply to our questions\n",
        "tick = perf_counter()\n",
        "result = qa_chain({'question': 'What are the patient details', 'include_run_info': True})\n",
        "print(f'Time span for query: {perf_counter() - tick}')\n",
        "\n",
        "print('Q:', result['question'])\n",
        "print('A:', result['result'])\n",
        "print('\\n')\n",
        "print('Resources:', result['source_documents'])"
      ],
      "metadata": {
        "id": "whaabAt72345"
      },
      "execution_count": null,
      "outputs": []
    },
    {
      "cell_type": "code",
      "source": [],
      "metadata": {
        "id": "d5zWnLsguF78"
      },
      "execution_count": null,
      "outputs": []
    }
  ]
}