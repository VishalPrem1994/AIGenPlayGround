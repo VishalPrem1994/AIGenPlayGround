{
  "nbformat": 4,
  "nbformat_minor": 0,
  "metadata": {
    "colab": {
      "provenance": [],
      "gpuType": "T4",
      "include_colab_link": true
    },
    "kernelspec": {
      "name": "python3",
      "display_name": "Python 3"
    },
    "language_info": {
      "name": "python"
    },
    "accelerator": "GPU"
  },
  "cells": [
    {
      "cell_type": "markdown",
      "metadata": {
        "id": "view-in-github",
        "colab_type": "text"
      },
      "source": [
        "<a href=\"https://colab.research.google.com/github/VishalPrem1994/AIGenPlayGround/blob/main/TFAutoModelForTokenClassification.ipynb\" target=\"_parent\"><img src=\"https://colab.research.google.com/assets/colab-badge.svg\" alt=\"Open In Colab\"/></a>"
      ]
    },
    {
      "cell_type": "code",
      "source": [
        "!pip install transformers datasets"
      ],
      "metadata": {
        "id": "epO47HaaOMxC"
      },
      "execution_count": null,
      "outputs": []
    },
    {
      "cell_type": "code",
      "source": [
        "!pip install transformers -U\n",
        "!pip install accelerate -U"
      ],
      "metadata": {
        "id": "gLKZbn-8aB3u"
      },
      "execution_count": null,
      "outputs": []
    },
    {
      "cell_type": "code",
      "source": [
        "from transformers import AutoProcessor, TFAutoModelForTokenClassification, Trainer\n",
        "import accelerate\n",
        "import transformers"
      ],
      "metadata": {
        "id": "TX8_1jDxZVLY"
      },
      "execution_count": null,
      "outputs": []
    },
    {
      "cell_type": "markdown",
      "source": [
        "### Inference"
      ],
      "metadata": {
        "id": "ptQ3tY1tYfZ7"
      }
    },
    {
      "cell_type": "code",
      "execution_count": null,
      "metadata": {
        "colab": {
          "base_uri": "https://localhost:8080/"
        },
        "id": "ncvIyhCtN_SY",
        "outputId": "73036c74-8877-4497-fdb2-1355c9c66b3a"
      },
      "outputs": [
        {
          "output_type": "stream",
          "name": "stderr",
          "text": [
            "All model checkpoint layers were used when initializing TFLayoutLMv3ForTokenClassification.\n",
            "\n",
            "Some layers of TFLayoutLMv3ForTokenClassification were not initialized from the model checkpoint at microsoft/layoutlmv3-base and are newly initialized: ['dropout', 'classifier']\n",
            "You should probably TRAIN this model on a down-stream task to be able to use it for predictions and inference.\n"
          ]
        }
      ],
      "source": [
        "|from transformers import AutoProcessor, TFAutoModelForTokenClassification, Trainer\n",
        "from datasets import load_dataset\n",
        "\n",
        "processor = AutoProcessor.from_pretrained(\"microsoft/layoutlmv3-base\", apply_ocr=False)\n",
        "model = TFAutoModelForTokenClassification.from_pretrained(\"microsoft/layoutlmv3-base\", num_labels=7)\n",
        "\n",
        "dataset = load_dataset(\"nielsr/funsd-layoutlmv3\", split=\"test\")\n",
        "example = dataset[0]\n",
        "image = example[\"image\"]\n",
        "words = example[\"tokens\"]\n",
        "boxes = example[\"bboxes\"]\n",
        "word_labels = example[\"ner_tags\"]\n",
        "\n",
        "encoding = processor(image, words, boxes=boxes, word_labels=word_labels, return_tensors=\"tf\")\n",
        "\n",
        "outputs = model(**encoding)\n",
        "# loss = outputs.loss\n",
        "# logits = outputs.logits"
      ]
    },
    {
      "cell_type": "code",
      "source": [
        "print(model.num_labels)"
      ],
      "metadata": {
        "colab": {
          "base_uri": "https://localhost:8080/"
        },
        "id": "khwibfxzfTIJ",
        "outputId": "06bfbe3d-7d7f-4d62-85ee-6594ef32a794"
      },
      "execution_count": null,
      "outputs": [
        {
          "output_type": "stream",
          "name": "stdout",
          "text": [
            "7\n"
          ]
        }
      ]
    },
    {
      "cell_type": "code",
      "source": [
        "outputs.logits.numpy()"
      ],
      "metadata": {
        "colab": {
          "base_uri": "https://localhost:8080/"
        },
        "id": "MdJfmFkggC8I",
        "outputId": "134b54d6-85d0-45a6-9d8a-c12920a2da13"
      },
      "execution_count": null,
      "outputs": [
        {
          "output_type": "execute_result",
          "data": {
            "text/plain": [
              "array([[[ 0.43296117, -0.59000134, -0.06979164, ..., -0.48452416,\n",
              "          0.27750528, -0.00721444],\n",
              "        [ 0.19474994, -0.25761545,  0.09597155, ...,  0.00975339,\n",
              "          0.12363185,  0.01789424],\n",
              "        [ 0.07014784, -0.2321267 , -0.05487693, ..., -0.18979509,\n",
              "          0.06941003,  0.12577416],\n",
              "        ...,\n",
              "        [-0.2288545 , -0.24830306,  0.42925757, ..., -0.26319492,\n",
              "         -0.24275087, -0.01112129],\n",
              "        [-0.00517309, -0.4841121 ,  0.12616858, ..., -0.37430978,\n",
              "          0.21132559, -0.29877675],\n",
              "        [ 0.43360245, -0.5920362 , -0.06913602, ..., -0.4860724 ,\n",
              "          0.27816156, -0.01015994]]], dtype=float32)"
            ]
          },
          "metadata": {},
          "execution_count": 137
        }
      ]
    },
    {
      "cell_type": "code",
      "source": [
        "torch.softmax(torch.tensor(outputs.logits.numpy()),dim=-1)"
      ],
      "metadata": {
        "colab": {
          "base_uri": "https://localhost:8080/"
        },
        "id": "oeHHoqXAftcI",
        "outputId": "17dcf518-0bb3-4da9-b33f-89e94919715b"
      },
      "execution_count": null,
      "outputs": [
        {
          "output_type": "execute_result",
          "data": {
            "text/plain": [
              "tensor([[[0.2344, 0.0843, 0.1418,  ..., 0.0937, 0.2007, 0.1509],\n",
              "         [0.1839, 0.1170, 0.1666,  ..., 0.1529, 0.1713, 0.1541],\n",
              "         [0.1729, 0.1278, 0.1525,  ..., 0.1333, 0.1727, 0.1828],\n",
              "         ...,\n",
              "         [0.1288, 0.1263, 0.2487,  ..., 0.1244, 0.1270, 0.1601],\n",
              "         [0.1669, 0.1034, 0.1904,  ..., 0.1154, 0.2073, 0.1245],\n",
              "         [0.2347, 0.0842, 0.1420,  ..., 0.0936, 0.2009, 0.1506]]])"
            ]
          },
          "metadata": {},
          "execution_count": 140
        }
      ]
    },
    {
      "cell_type": "markdown",
      "source": [
        "### training"
      ],
      "metadata": {
        "id": "S13IHb48Ykt0"
      }
    },
    {
      "cell_type": "code",
      "source": [
        "!pip install transformers datasets\n",
        "!pip install transformers -U\n",
        "!pip install accelerate -U"
      ],
      "metadata": {
        "id": "S_7q9_3CX4J-"
      },
      "execution_count": null,
      "outputs": []
    },
    {
      "cell_type": "code",
      "source": [
        "from transformers import AutoProcessor, TFAutoModelForTokenClassification, Trainer, TrainingArguments\n",
        "from datasets import load_dataset, Image\n",
        "import accelerate\n",
        "import transformers"
      ],
      "metadata": {
        "id": "kaEQXSdaYA78"
      },
      "execution_count": null,
      "outputs": []
    },
    {
      "cell_type": "code",
      "source": [
        "datasets = load_dataset(\"nielsr/funsd\")\n",
        "datasets"
      ],
      "metadata": {
        "id": "Le0HGjY6YEZk"
      },
      "execution_count": null,
      "outputs": []
    },
    {
      "cell_type": "code",
      "source": [
        "labels = datasets['train'].features['ner_tags'].feature.names\n",
        "print(labels)"
      ],
      "metadata": {
        "id": "A6bE-UNOYFvg"
      },
      "execution_count": null,
      "outputs": []
    },
    {
      "cell_type": "code",
      "source": [
        "id2label = {v: k for v, k in enumerate(labels)}\n",
        "label2id = {k: v for v, k in enumerate(labels)}\n",
        "label2id"
      ],
      "metadata": {
        "id": "0c1jLYilYG0i"
      },
      "execution_count": null,
      "outputs": []
    },
    {
      "cell_type": "code",
      "source": [
        "features = Features({\n",
        "    'image': Array3D(dtype=\"int64\", shape=(3, 224, 224)),\n",
        "    'input_ids': Sequence(feature=Value(dtype='int64')),\n",
        "    'attention_mask': Sequence(Value(dtype='int64')),\n",
        "    'token_type_ids': Sequence(Value(dtype='int64')),\n",
        "    'bbox': Array2D(dtype=\"int64\", shape=(512, 4)),\n",
        "    'labels': Sequence(ClassLabel(names=labels)),\n",
        "})"
      ],
      "metadata": {
        "id": "09aEgRWjYH-e"
      },
      "execution_count": null,
      "outputs": []
    },
    {
      "cell_type": "code",
      "source": [
        "processor = AutoProcessor.from_pretrained(\"microsoft/layoutlmv3-base\", apply_ocr=False)\n",
        "\n",
        "def preprocess_data(examples):\n",
        "  images = [Image.open(path).convert(\"RGB\") for path in examples['image_path']]\n",
        "  words = examples['words']\n",
        "  boxes = examples['bboxes']\n",
        "  word_labels = examples['ner_tags']\n",
        "\n",
        "  encoded_inputs = processor(images, words, boxes=boxes, word_labels=word_labels,padding=\"max_length\", truncation=True, return_tensors=\"tf\")\n",
        "\n",
        "  return encoded_inputs\n",
        "\n",
        "train_dataset = datasets['train'].map(preprocess_data, batched=True, remove_columns=datasets['train'].column_names,\n",
        "                                      features=features)\n",
        "test_dataset = datasets['test'].map(preprocess_data, batched=True, remove_columns=datasets['test'].column_names,\n",
        "                                      features=features)"
      ],
      "metadata": {
        "id": "vp0YhXrRYJnr"
      },
      "execution_count": null,
      "outputs": []
    },
    {
      "cell_type": "code",
      "source": [
        "model = TFAutoModelForTokenClassification.from_pretrained(\"microsoft/layoutlmv3-base\", num_labels=7)"
      ],
      "metadata": {
        "id": "xLmeDnLJYMDL"
      },
      "execution_count": null,
      "outputs": []
    },
    {
      "cell_type": "code",
      "source": [
        "args = TrainingArguments(\n",
        "    output_dir=\"layoutlmv2-finetuned-funsd-v2\", # name of directory to store the checkpoints\n",
        "    max_steps=1000, # we train for a maximum of 1,000 batches\n",
        "    warmup_ratio=0.1, # we warmup a bit\n",
        "    fp16=True, # we use mixed precision (less memory consumption)\n",
        "    push_to_hub=False, # after training, we'd like to push our model to the hub\n",
        ")"
      ],
      "metadata": {
        "id": "qPFipGWiYPSc"
      },
      "execution_count": null,
      "outputs": []
    },
    {
      "cell_type": "code",
      "source": [
        "trainer = Trainer(model=model,args=None,train_dataset=None,eval_dataset=None)"
      ],
      "metadata": {
        "id": "etgFLsglYRNn"
      },
      "execution_count": null,
      "outputs": []
    },
    {
      "cell_type": "code",
      "source": [
        "processor = AutoProcessor.from_pretrained(\"microsoft/layoutlmv3-base\", apply_ocr=False)\n",
        "model = TFAutoModelForTokenClassification.from_pretrained(\"microsoft/layoutlmv3-base\", num_labels=7)\n",
        "\n",
        "dataset = load_dataset(\"nielsr/funsd-layoutlmv\", split=\"test\")\n",
        "example = dataset[0]\n",
        "image = example[\"image\"]\n",
        "words = example[\"tokens\"]\n",
        "boxes = example[\"bboxes\"]\n",
        "word_labels = example[\"ner_tags\"]\n",
        "\n",
        "encoding = processor(image, words, boxes=boxes, word_labels=word_labels, return_tensors=\"tf\")\n",
        "\n",
        "outputs = model(**encoding)\n",
        "# loss = outputs.loss\n",
        "# logits = outputs.logits"
      ],
      "metadata": {
        "id": "Q7hIeZ-bYST7"
      },
      "execution_count": null,
      "outputs": []
    },
    {
      "cell_type": "code",
      "source": [
        "from PIL import Image\n",
        "dataset = load_dataset(\"nielsr/funsd-layoutlmv3\", split=\"test\")\n",
        "example = dataset[0]\n",
        "image = example[\"image\"]\n",
        "image.copy()"
      ],
      "metadata": {
        "id": "6X4al5tYYXRH"
      },
      "execution_count": null,
      "outputs": []
    },
    {
      "cell_type": "code",
      "source": [
        "\n",
        "torch.softmax(torch.tensor(outputs.logits.numpy()),dim=-1)"
      ],
      "metadata": {
        "id": "8kUX8ARBYaGG"
      },
      "execution_count": null,
      "outputs": []
    }
  ]
}