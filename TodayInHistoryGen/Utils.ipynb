{
  "cells": [
    {
      "cell_type": "markdown",
      "metadata": {
        "colab_type": "text",
        "id": "view-in-github"
      },
      "source": [
        "<a href=\"https://colab.research.google.com/github/VishalPrem1994/AIGenPlayGround/blob/main/TodayInHistoryGen/StaticImageGen.ipynb\" target=\"_parent\"><img src=\"https://colab.research.google.com/assets/colab-badge.svg\" alt=\"Open In Colab\"/></a>"
      ]
    },
    {
      "cell_type": "code",
      "execution_count": 2,
      "metadata": {
        "id": "HIXHDC_xuvUw"
      },
      "outputs": [],
      "source": [
        "import openai\n",
        "import datetime\n",
        "import json\n",
        "import string\n",
        "import cv2\n",
        "import numpy as np\n",
        "import glob\n",
        "import os\n",
        "import random"
      ]
    },
    {
      "cell_type": "code",
      "execution_count": null,
      "metadata": {},
      "outputs": [],
      "source": [
        "class Image:\n",
        "    def __init__(self, filename, time=500, size=500):\n",
        "        self.size = size\n",
        "        self.time = time\n",
        "        self.shifted = 0.0\n",
        "        self.img = cv2.imread(filename)\n",
        "        self.height, self.width, _ = self.img.shape\n",
        "        if self.width < self.height:\n",
        "            self.height = int(self.height*size/self.width)\n",
        "            self.width = size\n",
        "            self.img = cv2.resize(self.img, (self.width, self.height))\n",
        "            self.shift = self.height - size\n",
        "            self.shift_height = True\n",
        "        else:\n",
        "            self.width = int(self.width*size/self.height)\n",
        "            self.height = size\n",
        "            self.shift = self.width - size\n",
        "            self.img = cv2.resize(self.img, (self.width, self.height))\n",
        "            self.shift_height = False\n",
        "        self.delta_shift = self.shift/self.time\n",
        "    def reset(self):\n",
        "        if random.randint(0, 1) == 0:\n",
        "            self.shifted = 0.0\n",
        "            self.delta_shift = abs(self.delta_shift)\n",
        "        else:\n",
        "            self.shifted = self.shift\n",
        "            self.delta_shift = -abs(self.delta_shift)\n",
        "    def get_frame(self):\n",
        "        if self.shift_height:\n",
        "            roi = self.img[int(self.shifted):int(self.shifted) + self.size, :, :]\n",
        "        else:\n",
        "            roi = self.img[:, int(self.shifted):int(self.shifted) + self.size, :]\n",
        "        self.shifted += self.delta_shift\n",
        "        if self.shifted > self.shift:\n",
        "            self.shifted = self.shift\n",
        "        if self.shifted < 0:\n",
        "            self.shifted = 0\n",
        "        return roi"
      ]
    },
    {
      "cell_type": "code",
      "execution_count": null,
      "metadata": {},
      "outputs": [],
      "source": [
        "def promptsForDate(date,promptType):\n",
        "    if promptType==\"IN\":\n",
        "        return \"Summarize two famous historical events that happened on \"+str(date.strftime(\"%d\"))+\" \"+str(date.strftime(\"%B\"))+\" In India In history\"\n",
        "    else:\n",
        "        return \"Summarize two famous event that happened on \"+str(date.strftime(\"%d\"))+\" \"+str(date.strftime(\"%B\"))\n",
        "\n",
        "def promptForImageGeneration(rawText):\n",
        "    return \"Generate three detailed Prompts for giving ai art generation models for the following text \"+str(rawText)\n",
        "\n",
        "def promptsListCleanUp(rawTextList):\n",
        "    newList = list()\n",
        "    for i in rawTextList:\n",
        "        if(len(i)!=0):\n",
        "            i.translate(str.maketrans('', '', string.punctuation))\n",
        "            newList.append(i)\n",
        "    return newList\n",
        "\n",
        "def getDaVinciResponse(prompt):\n",
        "    promptResponse = openai.Completion.create(\n",
        "        model=\"text-davinci-003\",\n",
        "        prompt=prompt,\n",
        "        temperature=0.7,\n",
        "        max_tokens=200,\n",
        "        top_p=1.0,\n",
        "        frequency_penalty=0.0,\n",
        "        presence_penalty=1\n",
        "    )\n",
        "    promptResponse = promptResponse['choices'][0]['text'].split(\"\\n\\n\")\n",
        "    promptResponse = promptsListCleanUp(promptResponse)\n",
        "    return promptResponse\n"
      ]
    },
    {
      "cell_type": "code",
      "execution_count": null,
      "metadata": {},
      "outputs": [],
      "source": [
        "def process(path):\n",
        "    filenames = glob.glob(os.path.join(path, \"*\"))\n",
        "    cnt = 0\n",
        "    images = []\n",
        "    for filename in filenames:\n",
        "        print(filename)\n",
        "        img = Image(filename)\n",
        "        images.append(img)\n",
        "        if cnt > 300:\n",
        "            break\n",
        "        cnt += 1\n",
        "    prev_image = images[random.randrange(0, len(images))]\n",
        "    prev_image.reset()\n",
        "    while True:\n",
        "        while True:\n",
        "            img = images[random.randrange(0, len(images))]\n",
        "            if img != prev_image:\n",
        "                break\n",
        "        img.reset()\n",
        "        for i in range(100):\n",
        "            alpha = i/100\n",
        "            beta = 1.0 - alpha\n",
        "            dst = cv2.addWeighted(img.get_frame(), alpha, prev_image.get_frame(), beta, 0.0)\n",
        "            cv2.imshow(\"Slide\", dst)\n",
        "            if cv2.waitKey(1) == ord('q'):\n",
        "                return\n",
        "        prev_image = img\n",
        "        for _ in range(300):\n",
        "            cv2.imshow(\"Slide\", img.get_frame())\n",
        "            if cv2.waitKey(1) == ord('q'):\n",
        "                return"
      ]
    }
  ],
  "metadata": {
    "accelerator": "GPU",
    "colab": {
      "authorship_tag": "ABX9TyPFKgihAQ6T9cKA26HfLRh4",
      "include_colab_link": true,
      "provenance": []
    },
    "gpuClass": "standard",
    "kernelspec": {
      "display_name": "Python 3",
      "name": "python3"
    },
    "language_info": {
      "name": "python"
    }
  },
  "nbformat": 4,
  "nbformat_minor": 0
}
