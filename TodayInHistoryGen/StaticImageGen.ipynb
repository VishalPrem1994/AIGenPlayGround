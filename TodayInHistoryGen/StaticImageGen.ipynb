{
  "cells": [
    {
      "cell_type": "markdown",
      "metadata": {
        "colab_type": "text",
        "id": "view-in-github"
      },
      "source": [
        "<a href=\"https://colab.research.google.com/github/VishalPrem1994/AIGenPlayGround/blob/main/TodayInHistoryGen/StaticImageGen.ipynb\" target=\"_parent\"><img src=\"https://colab.research.google.com/assets/colab-badge.svg\" alt=\"Open In Colab\"/></a>"
      ]
    },
    {
      "attachments": {},
      "cell_type": "markdown",
      "metadata": {},
      "source": [
        "#### Base Installations"
      ]
    },
    {
      "cell_type": "code",
      "execution_count": null,
      "metadata": {},
      "outputs": [],
      "source": [
        "%pip install openai numpy opencv-python"
      ]
    },
    {
      "cell_type": "code",
      "execution_count": 1,
      "metadata": {
        "id": "HIXHDC_xuvUw"
      },
      "outputs": [],
      "source": [
        "import openai\n",
        "import datetime"
      ]
    },
    {
      "attachments": {},
      "cell_type": "markdown",
      "metadata": {},
      "source": [
        "##### Configs"
      ]
    },
    {
      "cell_type": "code",
      "execution_count": 11,
      "metadata": {},
      "outputs": [],
      "source": [
        "OPEN_AI_ORG = \"\" #@param {type:\"string\"}\n",
        "OPEN_AI_KEY = \"\" #@param {type:\"string\"}\n",
        "HUGGING_FACE_KEY = \"\"\n",
        "\n",
        "\n",
        "openai.organization = OPEN_AI_ORG\n",
        "openai.api_key = OPEN_AI_KEY"
      ]
    },
    {
      "attachments": {},
      "cell_type": "markdown",
      "metadata": {},
      "source": [
        "#### Functions"
      ]
    },
    {
      "cell_type": "code",
      "execution_count": null,
      "metadata": {},
      "outputs": [],
      "source": [
        "class Image:\n",
        "    def __init__(self, filename, time=500, size=500):\n",
        "        self.size = size\n",
        "        self.time = time\n",
        "        self.shifted = 0.0\n",
        "        self.img = cv2.imread(filename)\n",
        "        self.height, self.width, _ = self.img.shape\n",
        "        if self.width < self.height:\n",
        "            self.height = int(self.height*size/self.width)\n",
        "            self.width = size\n",
        "            self.img = cv2.resize(self.img, (self.width, self.height))\n",
        "            self.shift = self.height - size\n",
        "            self.shift_height = True\n",
        "        else:\n",
        "            self.width = int(self.width*size/self.height)\n",
        "            self.height = size\n",
        "            self.shift = self.width - size\n",
        "            self.img = cv2.resize(self.img, (self.width, self.height))\n",
        "            self.shift_height = False\n",
        "        self.delta_shift = self.shift/self.time\n",
        "    def reset(self):\n",
        "        if random.randint(0, 1) == 0:\n",
        "            self.shifted = 0.0\n",
        "            self.delta_shift = abs(self.delta_shift)\n",
        "        else:\n",
        "            self.shifted = self.shift\n",
        "            self.delta_shift = -abs(self.delta_shift)\n",
        "    def get_frame(self):\n",
        "        if self.shift_height:\n",
        "            roi = self.img[int(self.shifted):int(self.shifted) + self.size, :, :]\n",
        "        else:\n",
        "            roi = self.img[:, int(self.shifted):int(self.shifted) + self.size, :]\n",
        "        self.shifted += self.delta_shift\n",
        "        if self.shifted > self.shift:\n",
        "            self.shifted = self.shift\n",
        "        if self.shifted < 0:\n",
        "            self.shifted = 0\n",
        "        return roi"
      ]
    },
    {
      "cell_type": "code",
      "execution_count": null,
      "metadata": {},
      "outputs": [],
      "source": [
        "def promptsForDate(date,promptType):\n",
        "    if promptType==\"IN\":\n",
        "        return \"Summarize two famous historical events that happened on \"+str(date.strftime(\"%d\"))+\" \"+str(date.strftime(\"%B\"))+\" In India In history\"\n",
        "    else:\n",
        "        return \"Summarize two famous event that happened on \"+str(date.strftime(\"%d\"))+\" \"+str(date.strftime(\"%B\"))\n",
        "\n",
        "def promptForImageGeneration(rawText):\n",
        "    return \"Generate three detailed Prompts for giving ai art generation models for the following text \"+str(rawText)\n",
        "\n",
        "def promptsListCleanUp(rawTextList):\n",
        "    newList = list()\n",
        "    for i in rawTextList:\n",
        "        if(len(i)!=0):\n",
        "            i.translate(str.maketrans('', '', string.punctuation))\n",
        "            newList.append(i)\n",
        "    return newList\n",
        "\n",
        "def getDaVinciResponse(prompt):\n",
        "    promptResponse = openai.Completion.create(\n",
        "        model=\"text-davinci-003\",\n",
        "        prompt=prompt,\n",
        "        temperature=0.7,\n",
        "        max_tokens=200,\n",
        "        top_p=1.0,\n",
        "        frequency_penalty=0.0,\n",
        "        presence_penalty=1\n",
        "    )\n",
        "    promptResponse = promptResponse['choices'][0]['text'].split(\"\\n\\n\")\n",
        "    promptResponse = promptsListCleanUp(promptResponse)\n",
        "    return promptResponse\n"
      ]
    },
    {
      "cell_type": "code",
      "execution_count": null,
      "metadata": {},
      "outputs": [],
      "source": [
        "def process(path):\n",
        "    filenames = glob.glob(os.path.join(path, \"*\"))\n",
        "    cnt = 0\n",
        "    images = []\n",
        "    for filename in filenames:\n",
        "        print(filename)\n",
        "        img = Image(filename)\n",
        "        images.append(img)\n",
        "        if cnt > 300:\n",
        "            break\n",
        "        cnt += 1\n",
        "    prev_image = images[random.randrange(0, len(images))]\n",
        "    prev_image.reset()\n",
        "    while True:\n",
        "        while True:\n",
        "            img = images[random.randrange(0, len(images))]\n",
        "            if img != prev_image:\n",
        "                break\n",
        "        img.reset()\n",
        "        for i in range(100):\n",
        "            alpha = i/100\n",
        "            beta = 1.0 - alpha\n",
        "            dst = cv2.addWeighted(img.get_frame(), alpha, prev_image.get_frame(), beta, 0.0)\n",
        "            cv2.imshow(\"Slide\", dst)\n",
        "            if cv2.waitKey(1) == ord('q'):\n",
        "                return\n",
        "        prev_image = img\n",
        "        for _ in range(300):\n",
        "            cv2.imshow(\"Slide\", img.get_frame())\n",
        "            if cv2.waitKey(1) == ord('q'):\n",
        "                return"
      ]
    },
    {
      "attachments": {},
      "cell_type": "markdown",
      "metadata": {},
      "source": [
        "#### Main Code"
      ]
    },
    {
      "cell_type": "code",
      "execution_count": 12,
      "metadata": {},
      "outputs": [
        {
          "data": {
            "text/plain": [
              "[\"1. The Jallianwala Bagh Massacre: On April 13, 1919, British troops opened fire on an unarmed crowd of protesters in Amritsar, India, killing hundreds and wounding thousands in what is now known as the Jallianwala Bagh massacre. The incident was a major factor in the growing Indian independence movement and helped shape the country's future.\",\n",
              " '2. The Indian Rebellion of 1857: On April 10, 1857, Indian troops stationed in the city of Meerut mutinied against the British East India Company and sparked a widespread rebellion that would become known as the Indian Rebellion of 1857. This uprising would eventually be suppressed by the British, but it marked a turning point in the history of India, leading to increased autonomy for the region and paving the way for independence from Britain.']"
            ]
          },
          "execution_count": 12,
          "metadata": {},
          "output_type": "execute_result"
        }
      ],
      "source": [
        "promptResponse = getDaVinciResponse(promptsForDate(datetime.date.today(),\"IN\"))\n",
        "promptResponse"
      ]
    },
    {
      "cell_type": "code",
      "execution_count": 13,
      "metadata": {},
      "outputs": [
        {
          "data": {
            "text/plain": [
              "[['1. Create a generative AI art piece that conveys a sense of sorrow and tragedy, while also implying the strength of the Indian people in the face of injustice. Focus on the colors of India’s flag, or incorporate the use of dark and light hues to represent the contrast between the horror of the massacre and the hope of the independence movement. ',\n",
              "  '2. Create an AI art piece that illustrates the underlying tension between the British and Indian people before the massacre occurred, using symbolism and muted colors to capture the emotions of the time. Consider including images of the Amritsar cityscape as well as figures representing both sides of the conflict. ',\n",
              "  '3. Create an AI art piece that gives a modern interpretation of the Jallianwala Bagh massacre. Incorporate abstract shapes and textures to symbolize the violence and chaos of the event, as well as bright colors to represent the resilience of the Indian people in the aftermath.'],\n",
              " ['1. Create an AI art generation model to illustrate the Indian Rebellion of 1857 in a stylized illustration, capturing the tension and struggle between the British East India Company and the Indian troops. ',\n",
              "  '2. Design an AI art generation model that captures the chaos and confusion of the Meerut mutiny as it began on April 10, 1857.',\n",
              "  '3. Generate an AI art generation model that depicts the event’s lasting legacy - increased autonomy for the region and the eventual independence from Britain - using symbolic imagery.']]"
            ]
          },
          "execution_count": 13,
          "metadata": {},
          "output_type": "execute_result"
        }
      ],
      "source": [
        "imagePrompts = [getDaVinciResponse(promptForImageGeneration(i)) for i in promptResponse] \n",
        "imagePrompts"
      ]
    },
    {
      "cell_type": "code",
      "execution_count": null,
      "metadata": {},
      "outputs": [],
      "source": [
        "process(\"Sample Images\")"
      ]
    }
  ],
  "metadata": {
    "accelerator": "GPU",
    "colab": {
      "authorship_tag": "ABX9TyPFKgihAQ6T9cKA26HfLRh4",
      "include_colab_link": true,
      "provenance": []
    },
    "gpuClass": "standard",
    "kernelspec": {
      "display_name": "Python 3",
      "name": "python3"
    },
    "language_info": {
      "codemirror_mode": {
        "name": "ipython",
        "version": 3
      },
      "file_extension": ".py",
      "mimetype": "text/x-python",
      "name": "python",
      "nbconvert_exporter": "python",
      "pygments_lexer": "ipython3",
      "version": "3.9.6"
    }
  },
  "nbformat": 4,
  "nbformat_minor": 0
}
