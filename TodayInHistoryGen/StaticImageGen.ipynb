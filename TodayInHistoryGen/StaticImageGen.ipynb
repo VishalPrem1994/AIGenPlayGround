{
  "cells": [
    {
      "cell_type": "markdown",
      "metadata": {
        "colab_type": "text",
        "id": "view-in-github"
      },
      "source": [
        "<a href=\"https://colab.research.google.com/github/VishalPrem1994/AIGenPlayGround/blob/main/TodayInHistoryGen/StaticImageGen.ipynb\" target=\"_parent\"><img src=\"https://colab.research.google.com/assets/colab-badge.svg\" alt=\"Open In Colab\"/></a>"
      ]
    },
    {
      "cell_type": "code",
      "execution_count": 8,
      "metadata": {},
      "outputs": [
        {
          "name": "stdout",
          "output_type": "stream",
          "text": [
            "Defaulting to user installation because normal site-packages is not writeable\n",
            "Requirement already satisfied: openai in /Users/vishalprem/Library/Python/3.9/lib/python/site-packages (0.27.3)\n",
            "Requirement already satisfied: numpy in /Users/vishalprem/Library/Python/3.9/lib/python/site-packages (1.24.2)\n",
            "Requirement already satisfied: opencv-python in /Users/vishalprem/Library/Python/3.9/lib/python/site-packages (4.7.0.72)\n",
            "Requirement already satisfied: aiohttp in /Users/vishalprem/Library/Python/3.9/lib/python/site-packages (from openai) (3.8.4)\n",
            "Requirement already satisfied: requests>=2.20 in /Users/vishalprem/Library/Python/3.9/lib/python/site-packages (from openai) (2.28.2)\n",
            "Requirement already satisfied: tqdm in /Users/vishalprem/Library/Python/3.9/lib/python/site-packages (from openai) (4.65.0)\n",
            "Requirement already satisfied: urllib3<1.27,>=1.21.1 in /Users/vishalprem/Library/Python/3.9/lib/python/site-packages (from requests>=2.20->openai) (1.26.15)\n",
            "Requirement already satisfied: charset-normalizer<4,>=2 in /Users/vishalprem/Library/Python/3.9/lib/python/site-packages (from requests>=2.20->openai) (3.1.0)\n",
            "Requirement already satisfied: certifi>=2017.4.17 in /Users/vishalprem/Library/Python/3.9/lib/python/site-packages (from requests>=2.20->openai) (2022.12.7)\n",
            "Requirement already satisfied: idna<4,>=2.5 in /Users/vishalprem/Library/Python/3.9/lib/python/site-packages (from requests>=2.20->openai) (3.4)\n",
            "Requirement already satisfied: aiosignal>=1.1.2 in /Users/vishalprem/Library/Python/3.9/lib/python/site-packages (from aiohttp->openai) (1.3.1)\n",
            "Requirement already satisfied: frozenlist>=1.1.1 in /Users/vishalprem/Library/Python/3.9/lib/python/site-packages (from aiohttp->openai) (1.3.3)\n",
            "Requirement already satisfied: yarl<2.0,>=1.0 in /Users/vishalprem/Library/Python/3.9/lib/python/site-packages (from aiohttp->openai) (1.8.2)\n",
            "Requirement already satisfied: async-timeout<5.0,>=4.0.0a3 in /Users/vishalprem/Library/Python/3.9/lib/python/site-packages (from aiohttp->openai) (4.0.2)\n",
            "Requirement already satisfied: attrs>=17.3.0 in /Users/vishalprem/Library/Python/3.9/lib/python/site-packages (from aiohttp->openai) (22.2.0)\n",
            "Requirement already satisfied: multidict<7.0,>=4.5 in /Users/vishalprem/Library/Python/3.9/lib/python/site-packages (from aiohttp->openai) (6.0.4)\n",
            "\u001b[33mWARNING: You are using pip version 21.2.4; however, version 23.0.1 is available.\n",
            "You should consider upgrading via the '/Library/Developer/CommandLineTools/usr/bin/python3 -m pip install --upgrade pip' command.\u001b[0m\n",
            "Note: you may need to restart the kernel to use updated packages.\n"
          ]
        }
      ],
      "source": [
        "%pip install openai numpy opencv-python"
      ]
    },
    {
      "cell_type": "code",
      "execution_count": 9,
      "metadata": {
        "id": "HIXHDC_xuvUw"
      },
      "outputs": [],
      "source": [
        "import openai\n",
        "import datetime\n",
        "import json\n",
        "import string\n",
        "import cv2\n",
        "import numpy as np\n",
        "import glob\n",
        "import os\n",
        "import random"
      ]
    },
    {
      "cell_type": "code",
      "execution_count": 10,
      "metadata": {},
      "outputs": [],
      "source": [
        "%run \"./Utils.ipynb\""
      ]
    },
    {
      "attachments": {},
      "cell_type": "markdown",
      "metadata": {},
      "source": [
        "#### Configs"
      ]
    },
    {
      "cell_type": "code",
      "execution_count": 11,
      "metadata": {},
      "outputs": [],
      "source": [
        "OPEN_AI_ORG = \"\" #@param {type:\"string\"}\n",
        "OPEN_AI_KEY = \"\" #@param {type:\"string\"}\n",
        "HUGGING_FACE_KEY = \"\"\n",
        "\n",
        "\n",
        "openai.organization = OPEN_AI_ORG\n",
        "openai.api_key = OPEN_AI_KEY"
      ]
    },
    {
      "attachments": {},
      "cell_type": "markdown",
      "metadata": {},
      "source": [
        "#### Setup"
      ]
    },
    {
      "cell_type": "code",
      "execution_count": 12,
      "metadata": {},
      "outputs": [
        {
          "data": {
            "text/plain": [
              "[\"1. The Jallianwala Bagh Massacre: On April 13, 1919, British troops opened fire on an unarmed crowd of protesters in Amritsar, India, killing hundreds and wounding thousands in what is now known as the Jallianwala Bagh massacre. The incident was a major factor in the growing Indian independence movement and helped shape the country's future.\",\n",
              " '2. The Indian Rebellion of 1857: On April 10, 1857, Indian troops stationed in the city of Meerut mutinied against the British East India Company and sparked a widespread rebellion that would become known as the Indian Rebellion of 1857. This uprising would eventually be suppressed by the British, but it marked a turning point in the history of India, leading to increased autonomy for the region and paving the way for independence from Britain.']"
            ]
          },
          "execution_count": 12,
          "metadata": {},
          "output_type": "execute_result"
        }
      ],
      "source": [
        "promptResponse = getDaVinciResponse(promptsForDate(datetime.date.today(),\"IN\"))\n",
        "promptResponse\n"
      ]
    },
    {
      "cell_type": "code",
      "execution_count": 13,
      "metadata": {},
      "outputs": [
        {
          "data": {
            "text/plain": [
              "[['1. Create a generative AI art piece that conveys a sense of sorrow and tragedy, while also implying the strength of the Indian people in the face of injustice. Focus on the colors of India’s flag, or incorporate the use of dark and light hues to represent the contrast between the horror of the massacre and the hope of the independence movement. ',\n",
              "  '2. Create an AI art piece that illustrates the underlying tension between the British and Indian people before the massacre occurred, using symbolism and muted colors to capture the emotions of the time. Consider including images of the Amritsar cityscape as well as figures representing both sides of the conflict. ',\n",
              "  '3. Create an AI art piece that gives a modern interpretation of the Jallianwala Bagh massacre. Incorporate abstract shapes and textures to symbolize the violence and chaos of the event, as well as bright colors to represent the resilience of the Indian people in the aftermath.'],\n",
              " ['1. Create an AI art generation model to illustrate the Indian Rebellion of 1857 in a stylized illustration, capturing the tension and struggle between the British East India Company and the Indian troops. ',\n",
              "  '2. Design an AI art generation model that captures the chaos and confusion of the Meerut mutiny as it began on April 10, 1857.',\n",
              "  '3. Generate an AI art generation model that depicts the event’s lasting legacy - increased autonomy for the region and the eventual independence from Britain - using symbolic imagery.']]"
            ]
          },
          "execution_count": 13,
          "metadata": {},
          "output_type": "execute_result"
        }
      ],
      "source": [
        "imagePrompts = [getDaVinciResponse(promptForImageGeneration(i)) for i in promptResponse] \n",
        "imagePrompts"
      ]
    }
  ],
  "metadata": {
    "accelerator": "GPU",
    "colab": {
      "authorship_tag": "ABX9TyPFKgihAQ6T9cKA26HfLRh4",
      "include_colab_link": true,
      "provenance": []
    },
    "gpuClass": "standard",
    "kernelspec": {
      "display_name": "Python 3",
      "name": "python3"
    },
    "language_info": {
      "name": "python"
    }
  },
  "nbformat": 4,
  "nbformat_minor": 0
}
